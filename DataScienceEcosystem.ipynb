{
 "cells": [
  {
   "cell_type": "markdown",
   "id": "61d41504-d2ce-45ac-9851-a5d60d40f90d",
   "metadata": {
    "tags": []
   },
   "source": [
    "# Data Science Tools and Ecosystem"
   ]
  },
  {
   "cell_type": "markdown",
   "id": "5e23f6f3-0e0a-4f48-9e94-7df96dcd8e30",
   "metadata": {
    "tags": []
   },
   "source": [
    "In this notebook, Data Science Tools and Ecosystem are summarized"
   ]
  },
  {
   "cell_type": "markdown",
   "id": "3e6cf196-23a5-4cd4-be92-cc20773b72a0",
   "metadata": {
    "tags": []
   },
   "source": [
    "Some of the popular languages that Data Scientists use are:\n",
    "1. Python\n",
    "2. R\n",
    "3. SQL"
   ]
  },
  {
   "cell_type": "markdown",
   "id": "2b73c30f-d327-4229-bbbf-3e49b966432d",
   "metadata": {
    "tags": []
   },
   "source": [
    "Some of the commonly used libraries used by Data Scientists include:\n",
    "    \n",
    "1. Pandas\n",
    "2. Numpy\n",
    "3. Matplotlib\n",
    "4. Seaborn\n",
    "5. Scikitlearn\n",
    "6. Keras"
   ]
  },
  {
   "cell_type": "markdown",
   "id": "83adf52b-04fd-44a4-a138-443f816717eb",
   "metadata": {},
   "source": [
    "**Objectives:**\n",
    "- To understand some popular languages data scientist use\n",
    "- various libraries in data science,API's, datasets and models.\n",
    "- Jupyter notebook and Jupyterlabs.\n",
    "- Rstudios and IDE\n",
    "- Git and GitHub"
   ]
  },
  {
   "cell_type": "markdown",
   "id": "d23d2734-94dd-40c0-8a82-06b54b2328a7",
   "metadata": {},
   "source": [
    "| Data Science Tools|\n",
    "| -------------| \n",
    "| Jupyter notebook | \n",
    "| Jupyter labs |\n",
    "| R studios|"
   ]
  },
  {
   "cell_type": "markdown",
   "id": "11a9d1b4-d982-45b8-9fbe-6441fb53e749",
   "metadata": {},
   "source": [
    "### Below are a few examples of evaluating arithmetic expressions in Python"
   ]
  },
  {
   "cell_type": "code",
   "execution_count": 2,
   "id": "cdbe8ae1-3a2b-4d33-b53c-a4c2b0364d3b",
   "metadata": {},
   "outputs": [
    {
     "data": {
      "text/plain": [
       "17"
      ]
     },
     "execution_count": 2,
     "metadata": {},
     "output_type": "execute_result"
    }
   ],
   "source": [
    "#This a simple arithmetic expression to mutiply then add integers\n",
    "(3*4)+5"
   ]
  },
  {
   "cell_type": "code",
   "execution_count": 7,
   "id": "84c7e5d1-6c3c-465b-a4e0-4d5cd0b55c66",
   "metadata": {},
   "outputs": [
    {
     "name": "stdout",
     "output_type": "stream",
     "text": [
      "200 mins in hours are 3.3333333333333335 hours\n"
     ]
    }
   ],
   "source": [
    "# This will convert 200 minutes to hours by diving by 60\n",
    "hours= 200/60\n",
    "print(\"200 mins in hours are \"+str(hours) +\" hours\")\n"
   ]
  },
  {
   "cell_type": "markdown",
   "id": "e1d04794-c36a-430e-8a22-21d092cd4127",
   "metadata": {},
   "source": [
    "## Author\n",
    "Yash Vanmali"
   ]
  },
  {
   "cell_type": "code",
   "execution_count": null,
   "id": "4210b81e-5551-43d3-b17b-d87a54a675ca",
   "metadata": {},
   "outputs": [],
   "source": []
  }
 ],
 "metadata": {
  "kernelspec": {
   "display_name": "Python",
   "language": "python",
   "name": "conda-env-python-py"
  },
  "language_info": {
   "codemirror_mode": {
    "name": "ipython",
    "version": 3
   },
   "file_extension": ".py",
   "mimetype": "text/x-python",
   "name": "python",
   "nbconvert_exporter": "python",
   "pygments_lexer": "ipython3",
   "version": "3.7.12"
  },
  "toc-autonumbering": false,
  "toc-showcode": false,
  "toc-showmarkdowntxt": true,
  "toc-showtags": false
 },
 "nbformat": 4,
 "nbformat_minor": 5
}
